{
  "nbformat": 4,
  "nbformat_minor": 0,
  "metadata": {
    "colab": {
      "provenance": []
    },
    "kernelspec": {
      "name": "python3",
      "display_name": "Python 3"
    },
    "language_info": {
      "name": "python"
    }
  },
  "cells": [
    {
      "cell_type": "code",
      "execution_count": 4,
      "metadata": {
        "colab": {
          "base_uri": "https://localhost:8080/"
        },
        "id": "Z-6CcXLXlcdV",
        "outputId": "d37fd174-ea22-499f-8659-7de1b1d3c992"
      },
      "outputs": [
        {
          "output_type": "stream",
          "name": "stdout",
          "text": [
            "🟥 RED - Stop\n",
            "🟨 YELLOW - Get Ready\n",
            "🟩 GREEN - Go\n",
            "Cycling again...\n",
            "\n",
            "🟥 RED - Stop\n",
            "🟨 YELLOW - Get Ready\n",
            "🟩 GREEN - Go\n",
            "Cycling again...\n",
            "\n",
            "🟥 RED - Stop\n",
            "🟨 YELLOW - Get Ready\n",
            "🟩 GREEN - Go\n",
            "Cycling again...\n",
            "\n",
            "🟥 RED - Stop\n",
            "🟨 YELLOW - Get Ready\n",
            "🟩 GREEN - Go\n",
            "Cycling again...\n",
            "\n",
            "🟥 RED - Stop\n",
            "🟨 YELLOW - Get Ready\n",
            "🟩 GREEN - Go\n",
            "Cycling again...\n",
            "\n",
            "🟥 RED - Stop\n",
            "🟨 YELLOW - Get Ready\n",
            "🟩 GREEN - Go\n",
            "Cycling again...\n",
            "\n",
            "🟥 RED - Stop\n",
            "🟨 YELLOW - Get Ready\n",
            "🟩 GREEN - Go\n",
            "Cycling again...\n",
            "\n",
            "🟥 RED - Stop\n",
            "🟨 YELLOW - Get Ready\n",
            "🟩 GREEN - Go\n",
            "Cycling again...\n",
            "\n",
            "Final light glowing: 🟩 GREEN - Go\n"
          ]
        }
      ],
      "source": [
        "import time\n",
        "import random\n",
        "\n",
        "def traffic_light_control():\n",
        "    cycles = random.randint(1, 10)  # Generate a random number of cycles\n",
        "    last_light = \"\"\n",
        "\n",
        "    for _ in range(cycles):\n",
        "        last_light = \"🟥 RED - Stop\"\n",
        "        print(last_light)\n",
        "        time.sleep(2)  # Red light duration\n",
        "\n",
        "        last_light = \"🟨 YELLOW - Get Ready\"\n",
        "        print(last_light)\n",
        "        time.sleep(1)  # Yellow light duration\n",
        "\n",
        "        last_light = \"🟩 GREEN - Go\"\n",
        "        print(last_light)\n",
        "        time.sleep(2)  # Green light duration\n",
        "\n",
        "        print(\"Cycling again...\\n\")\n",
        "\n",
        "    print(f\"Final light glowing: {last_light}\")\n",
        "\n",
        "if __name__ == \"__main__\":\n",
        "    traffic_light_control()\n"
      ]
    }
  ]
}